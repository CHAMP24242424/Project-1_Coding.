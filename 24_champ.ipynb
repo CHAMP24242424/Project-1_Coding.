{
  "nbformat": 4,
  "nbformat_minor": 0,
  "metadata": {
    "colab": {
      "provenance": [],
      "authorship_tag": "ABX9TyOy0PoxkjGHd20sFnF93syv",
      "include_colab_link": true
    },
    "kernelspec": {
      "name": "python3",
      "display_name": "Python 3"
    },
    "language_info": {
      "name": "python"
    }
  },
  "cells": [
    {
      "cell_type": "markdown",
      "metadata": {
        "id": "view-in-github",
        "colab_type": "text"
      },
      "source": [
        "<a href=\"https://colab.research.google.com/github/CHAMP24242424/Project-1_Coding./blob/main/24_champ.ipynb\" target=\"_parent\"><img src=\"https://colab.research.google.com/assets/colab-badge.svg\" alt=\"Open In Colab\"/></a>"
      ]
    },
    {
      "cell_type": "markdown",
      "source": [
        "เลขที่ 24 แชมป์ นาย ปฎิภาณ สมเกียรติสกุล ⚽\n",
        "no 24 Champ Pathiphan somkeitsakul *⚡*"
      ],
      "metadata": {
        "id": "aQxnBXmHcT1x"
      }
    },
    {
      "cell_type": "code",
      "source": [
        "print('4/4')"
      ],
      "metadata": {
        "colab": {
          "base_uri": "https://localhost:8080/"
        },
        "id": "nBFzbUnbA8Tb",
        "outputId": "023dad01-5d8c-41eb-d9a7-ffc1aa27fb35"
      },
      "execution_count": null,
      "outputs": [
        {
          "output_type": "stream",
          "name": "stdout",
          "text": [
            "4/4\n"
          ]
        }
      ]
    },
    {
      "cell_type": "code",
      "source": [
        "print(\"4/4\")"
      ],
      "metadata": {
        "colab": {
          "base_uri": "https://localhost:8080/"
        },
        "id": "PUXoUfHzBJck",
        "outputId": "8bab8799-1d72-4bc1-d88e-1d2477b13269"
      },
      "execution_count": null,
      "outputs": [
        {
          "output_type": "stream",
          "name": "stdout",
          "text": [
            "4/4\n"
          ]
        }
      ]
    },
    {
      "cell_type": "markdown",
      "source": [
        "20/05/2567"
      ],
      "metadata": {
        "id": "z4IGN_sxCEGc"
      }
    },
    {
      "cell_type": "code",
      "source": [
        "print('สวัสดีครัชทุกโคนนนนนนนนนนนนนนนนนนนนนนนนนนนนนนนนนนนนนนนนนนนนนนนนนนนนนนนนนนนนนนนนนนนนนนนนนนนนนนนนนนนนนนนนนนนนนนนนนนนนนนนนนนนนนนนนนนนนนนนนนนนนนน เราชื่อแชมป์ นะตะเอง เรารักทุกคนเลยนะจ๊ะจุ๊บุๆ')"
      ],
      "metadata": {
        "colab": {
          "base_uri": "https://localhost:8080/"
        },
        "id": "ftmBxrvpCo2s",
        "outputId": "6415708c-615e-469e-a54f-c5df919f31b9"
      },
      "execution_count": null,
      "outputs": [
        {
          "output_type": "stream",
          "name": "stdout",
          "text": [
            "สวัสดีครัชทุกโคนนนนนนนนนนนนนนนนนนนนนนนนนนนนนนนนนนนนนนนนนนนนนนนนนนนนนนนนนนนนนนนนนนนนนนนนนนนนนนนนนนนนนนนนนนนนนนนนนนนนนนนนนนนนนนนนนนนนนนนนนนนนนน เราชื่อแชมป์ นะตะเอง เรารักทุกคนเลยนะจ๊ะจุ๊บุๆ\n"
          ]
        }
      ]
    },
    {
      "cell_type": "code",
      "source": [
        "a = 2.4\n",
        "b = 2.5\n",
        "c = a+ b\n",
        "print(f\"2.4 + 2.5 ={c:.4f}\")"
      ],
      "metadata": {
        "colab": {
          "base_uri": "https://localhost:8080/"
        },
        "id": "g8LbcWLaExaO",
        "outputId": "986143ed-2670-46e3-b647-bb3a68e1ae7e"
      },
      "execution_count": null,
      "outputs": [
        {
          "output_type": "stream",
          "name": "stdout",
          "text": [
            "2.4 + 2.5 =4.9000\n"
          ]
        }
      ]
    },
    {
      "cell_type": "markdown",
      "source": [],
      "metadata": {
        "id": "kJIK5_vWMR3l"
      }
    },
    {
      "cell_type": "markdown",
      "source": [
        "ผมทำไม่เป็นค้าบบบบบบบบบบบบบบบบบบบบบบบบบบบบบบบบบบบบบบบบบบบบบบบบบบบบบบบบบบบบบบบบบบบบบบบบบ"
      ],
      "metadata": {
        "id": "IhJ5MCziMR6U"
      }
    },
    {
      "cell_type": "markdown",
      "source": [
        "29 / 05 / 2024\n",
        "\n",
        "\n",
        "*   ได้รู้เกี่ยวกับตัวแปร\n",
        "*   ต้องใช้ตัวอังกฤษพิมพ์เล็ก\n",
        "*   คำสั่ง type บอกประเภทตัวแปร\n",
        "*   คำสั่ง print บอกข้อความ\n",
        "\n",
        "\n",
        "\n",
        "\n"
      ],
      "metadata": {
        "id": "aqqS2oVnZhQ_"
      }
    },
    {
      "cell_type": "code",
      "source": [
        "a = 2\n",
        "b = 1.5\n",
        "c = \"M,4/4\"\n",
        "type(a)"
      ],
      "metadata": {
        "colab": {
          "base_uri": "https://localhost:8080/"
        },
        "id": "yPPL-Ly6aET8",
        "outputId": "f6611e6d-5e73-470c-de7b-fa78c38b0592"
      },
      "execution_count": null,
      "outputs": [
        {
          "output_type": "execute_result",
          "data": {
            "text/plain": [
              "int"
            ]
          },
          "metadata": {},
          "execution_count": 16
        }
      ]
    },
    {
      "cell_type": "code",
      "source": [
        "a = 2\n",
        "b = 1.5\n",
        "c = \"M,4/4\"\n",
        "type(b)"
      ],
      "metadata": {
        "colab": {
          "base_uri": "https://localhost:8080/"
        },
        "id": "fbH9ljEVbNI7",
        "outputId": "e80cb30f-8446-4211-b055-8948437d46f1"
      },
      "execution_count": null,
      "outputs": [
        {
          "output_type": "execute_result",
          "data": {
            "text/plain": [
              "float"
            ]
          },
          "metadata": {},
          "execution_count": 15
        }
      ]
    },
    {
      "cell_type": "code",
      "source": [
        "a = 2\n",
        "b = 1.5\n",
        "c = \"M,4/4\"\n",
        "type(c)\n",
        "\n",
        "print(\"ตัวแปรที่ฉันคิด คือ weight\")"
      ],
      "metadata": {
        "colab": {
          "base_uri": "https://localhost:8080/"
        },
        "id": "Ndt5POLHbsPz",
        "outputId": "067ff285-1fa2-40b8-fdd2-04775332ffff"
      },
      "execution_count": null,
      "outputs": [
        {
          "output_type": "stream",
          "name": "stdout",
          "text": [
            "ตัวแปรที่ฉันคิด คือ weight\n"
          ]
        }
      ]
    },
    {
      "cell_type": "code",
      "source": [
        "print(\"ตัวแปรที่นับค่าน้ำหนัก คือ weight\")"
      ],
      "metadata": {
        "colab": {
          "base_uri": "https://localhost:8080/"
        },
        "id": "pawldOSCby4r",
        "outputId": "4242865e-b1be-4720-89d4-395d0bcf59cc"
      },
      "execution_count": null,
      "outputs": [
        {
          "output_type": "stream",
          "name": "stdout",
          "text": [
            "ตัวแปรที่นับค่าน้ำหนัก คือ weight\n"
          ]
        }
      ]
    },
    {
      "cell_type": "code",
      "source": [
        "numeric1 = 5\n",
        "print(numeric1)\n",
        "type(numeric1)"
      ],
      "metadata": {
        "colab": {
          "base_uri": "https://localhost:8080/"
        },
        "id": "hlD-1hbvkVGJ",
        "outputId": "e09203d8-c839-421d-9564-0f665306650e"
      },
      "execution_count": null,
      "outputs": [
        {
          "output_type": "stream",
          "name": "stdout",
          "text": [
            "5\n"
          ]
        },
        {
          "output_type": "execute_result",
          "data": {
            "text/plain": [
              "int"
            ]
          },
          "metadata": {},
          "execution_count": 1
        }
      ]
    },
    {
      "cell_type": "markdown",
      "source": [
        "05/06/2024\n",
        "การเขียนโค้ดเพิ่มเติม\n",
        "และได้รู้เกีย่วกับpython และต่างๆของสัญลักษณ์index"
      ],
      "metadata": {
        "id": "3aj371u9WbP2"
      }
    },
    {
      "cell_type": "code",
      "source": [
        "string1 = \"Python\"\n",
        "print(string1[0])\n",
        "\n"
      ],
      "metadata": {
        "colab": {
          "base_uri": "https://localhost:8080/"
        },
        "id": "xjT_sMLyWoZw",
        "outputId": "5b5b6cae-dc4a-4679-d0ba-97724ed66551"
      },
      "execution_count": null,
      "outputs": [
        {
          "output_type": "stream",
          "name": "stdout",
          "text": [
            "P\n"
          ]
        }
      ]
    },
    {
      "cell_type": "markdown",
      "source": [
        "input = ประมวลผลคำสั่ง คือprint\n",
        "process = คำสั่งที่รับเข้ามาคือการรันโค้ด\n",
        "output = สิ่งที่แสดงผลลัพท์ออกมา"
      ],
      "metadata": {
        "id": "qpz9DrbTfvXR"
      }
    },
    {
      "cell_type": "markdown",
      "source": [
        "26/06/2567\n",
        "input"
      ],
      "metadata": {
        "id": "dgoZ2RZbWbM3"
      }
    },
    {
      "cell_type": "code",
      "source": [
        "name = input(\"What is your name? \")\n",
        "print(\"Nice to meet you, \" + name)"
      ],
      "metadata": {
        "colab": {
          "base_uri": "https://localhost:8080/"
        },
        "id": "mGVe3koWwx8g",
        "outputId": "657480f7-5dbe-4f0b-ebdc-f5de3c23b1ad"
      },
      "execution_count": null,
      "outputs": [
        {
          "output_type": "stream",
          "name": "stdout",
          "text": [
            "What is your name? champ\n",
            "Nice to meet you, champ\n"
          ]
        }
      ]
    },
    {
      "cell_type": "code",
      "source": [
        "length = 10\n",
        "width = 10\n",
        "area = length * width\n",
        "print(area)"
      ],
      "metadata": {
        "colab": {
          "base_uri": "https://localhost:8080/"
        },
        "id": "viB4ZVBOzrTP",
        "outputId": "0479dc2a-dd4d-41b7-96e3-6d7320ea5720"
      },
      "execution_count": null,
      "outputs": [
        {
          "output_type": "stream",
          "name": "stdout",
          "text": [
            "100\n"
          ]
        }
      ]
    },
    {
      "cell_type": "code",
      "source": [
        "length = 10\n",
        "width = 10\n",
        "area = length * width\n",
        "print(\"The area is\", area)"
      ],
      "metadata": {
        "colab": {
          "base_uri": "https://localhost:8080/"
        },
        "id": "UgNI0nWlP76Y",
        "outputId": "06617a49-7af5-4988-b570-957574e911b6"
      },
      "execution_count": null,
      "outputs": [
        {
          "output_type": "stream",
          "name": "stdout",
          "text": [
            "The area is 100\n"
          ]
        }
      ]
    },
    {
      "cell_type": "markdown",
      "source": [
        "01/07/2567"
      ],
      "metadata": {
        "id": "9GRy4y9fU2iG"
      }
    },
    {
      "cell_type": "code",
      "source": [
        "side_hight=int(input(\"ความยาวด้านยาว\"))\n",
        "side_width = int(input(\"ความยาวด้านสั้น \"))\n",
        "area = side_hight * side_width\n",
        "print(\"พื้นที่สี่เหลี่ยมผืนผ้า\", area , \"ตร.ซม\")\n"
      ],
      "metadata": {
        "colab": {
          "base_uri": "https://localhost:8080/"
        },
        "id": "EHL0kFqUQwbg",
        "outputId": "0d66fe6b-0f24-420e-b04e-bc5a811d2c3f"
      },
      "execution_count": null,
      "outputs": [
        {
          "output_type": "stream",
          "name": "stdout",
          "text": [
            "ความยาวด้านยาว5\n",
            "ความยาวด้านสั้น 6\n",
            "พื้นที่สี่เหลี่ยมผืนผ้า 30 ตร.ซม\n"
          ]
        }
      ]
    },
    {
      "cell_type": "code",
      "source": [
        "speed=int(input(\"ระยะทางที่ผ่านมาในกิโลเมตร\"))\n",
        "time = int(input(\"ระยะเวลาที่ผ่านมาในวินาที\"))\n",
        "straight_line = speed * time\n",
        "print(\"ความเร็วที่ผ่านมา\", straight_line,\"กิโลเมตร/วินาที\")"
      ],
      "metadata": {
        "colab": {
          "base_uri": "https://localhost:8080/"
        },
        "id": "BXlqlsZQSMzf",
        "outputId": "928ddac1-3887-423c-8a49-59198da8f01c"
      },
      "execution_count": null,
      "outputs": [
        {
          "output_type": "stream",
          "name": "stdout",
          "text": [
            "ระยะทางที่ผ่านมาในกิโลเมตร900\n",
            "ระยะเวลาที่ผ่านมาในวินาที7880\n",
            "ความเร็วที่ผ่านมา 7092000 กิโลเมตร/วินาที\n"
          ]
        }
      ]
    },
    {
      "cell_type": "code",
      "source": [
        "def calculate_distance(v, t):\n",
        "    # คำนวณระยะทาง s = v * t\n",
        "    return v * t\n",
        "\n",
        "def calculate_velocity(s, t):\n",
        "    # คำนวณความเร็ว v = s / t\n",
        "    return s / t\n",
        "\n",
        "def calculate_time(s, v):\n",
        "    # คำนวณเวลา t = s / v\n",
        "    return s / v\n",
        "\n",
        "# ตัวอย่างการใช้งานฟังก์ชัน\n",
        "v = 10  # ความเร็ว (เมตรต่อวินาที)\n",
        "t = 5   # เวลา (วินาที)\n",
        "\n",
        "# คำนวณระยะทาง\n",
        "distance = calculate_distance(v, t)\n",
        "print(f\"ระยะทางที่เคลื่อนที่ได้: {distance} เมตร\")\n",
        "\n",
        "# คำนวณความเร็ว\n",
        "velocity = calculate_velocity(distance, t)\n",
        "print(f\"ความเร็วที่เคลื่อนที่ได้: {velocity} เมตรต่อวินาที\")\n",
        "\n",
        "# คำนวณเวลา\n",
        "time = calculate_time(distance, v)\n",
        "print(f\"เวลาที่ใช้ในการเคลื่อนที่: {time} วินาที\")"
      ],
      "metadata": {
        "colab": {
          "base_uri": "https://localhost:8080/"
        },
        "id": "09Jal_LhUrSH",
        "outputId": "71e8837f-b1d5-409f-8f3c-437de25ecd56"
      },
      "execution_count": null,
      "outputs": [
        {
          "output_type": "stream",
          "name": "stdout",
          "text": [
            "ระยะทางที่เคลื่อนที่ได้: 50 เมตร\n",
            "ความเร็วที่เคลื่อนที่ได้: 10.0 เมตรต่อวินาที\n",
            "เวลาที่ใช้ในการเคลื่อนที่: 5.0 วินาที\n"
          ]
        }
      ]
    },
    {
      "cell_type": "code",
      "source": [
        "\n",
        "s=int(input(\"ระยะทางที่ผ่านมาในกิโลเมตร\"))\n",
        "t=int(input(\"ระยะเวลาที่ผ่านมาในวินาที\"))\n",
        "v=s/t\n",
        "print(\"ความเร็วที่ผ่านมา\",t,\"กิโลเมตร/วินาที\")"
      ],
      "metadata": {
        "colab": {
          "base_uri": "https://localhost:8080/"
        },
        "id": "A_GezVVVWklH",
        "outputId": "4f86c67b-c916-471f-dc4d-025173ca47e7"
      },
      "execution_count": null,
      "outputs": [
        {
          "output_type": "stream",
          "name": "stdout",
          "text": [
            "ระยะทางที่ผ่านมาในกิโลเมตร5\n",
            "ระยะเวลาที่ผ่านมาในวินาที6\n",
            "ความเร็วที่ผ่านมา 6 กิโลเมตร/วินาที\n"
          ]
        }
      ]
    },
    {
      "cell_type": "code",
      "source": [
        "def calculate_bmi(weight_kg, height_m):\n",
        "    # คำนวณดัชนีมวลปลาย BMI\n",
        "    bmi = weight / (height ** 2)\n",
        "    return bmi\n",
        "\n",
        "def interpret_bmi(bmi):\n",
        "    # ตีความค่า BMI\n",
        "    if bmi < 18.5:\n",
        "        return \"น้ำหนักน้อย / ผอม โหคุณครับช่วงนี้คุณเบื่ออาหารป่ะครับ หรือเป็นโรคซืมเสร้าป่าวครับ คุณต้องกินเพิ่มนะครับไม่งั้นเดะได้เป็นกระดูกเดินได้นะครับ ผมเป็นห่วงนะครับ ด้วยรักและความห่วงใยจากด็อกเตอร์ศาสตราจารย์เทพบุตรสุดหล่อแชมป์ ปฏิภาณคนดีคนเดิม\"\n",
        "    elif bmi < 25:\n",
        "        return \"ปกติ (สุขภาพดี) อันนี้คุณใช่คนเกาหลีใต้ป่ะครับ หุนดีมากเลยนะครับเนี่ยผมนึกว่าคนในวงBTS รักษาหุ่นให้ได้แบบนี้ตลอดนะครับเตง จุ๊ฟม๊วฟ\"\n",
        "    elif bmi < 30:\n",
        "        return \"ท้วม / โรคอ้วนระดับ 1 คุณเริ่มอ้วนแล้วน้ะครั้บเนี้ยช่วงนี้คุณกินเยอะใช่มั้ยเนี่ยดูแลสุขภาพด้วยนะคุณ\"\n",
        "    elif bmi < 35:\n",
        "        return \"อ้วน / โรคอ้วนระดับ 2 นี่คุณกินข้าววันละ8มื้อป่ะครั้บ คุณน่าจะกินแซ่บน่าดูนะครับ ลดการกินมั่งนะคุณไม่งั้นมันจะหนักนะครับ\"\n",
        "    else:\n",
        "        return \"อ้วนมาก / โรคอ้วนระดับ 3 โอ้โหคุณ ผมไม่อยากจะเชื่อสายตาเลยนะครับพระเจ้าช่วยกล้วยทอดกรอบ คุณควรลดน้ำหนักแล้วนะครับ ลดการกินแบบแป้งข้าวของหวานอื่นๆเยอะเลยนะครับไม่งั้นผมเกรงว่าคุณจะเดดซะมอเล่นะแน่นะครับ\"\n",
        "# ตัวอย่างการใช้งานฟังก์ชัน\n",
        "weight = int(input(\"น้ำหนักของคุณ คือ \"))  # น้ำหนัก (kg)\n",
        "height = float(input(\"ส่วนสูงของคุณ(ซม.) คือ \"))  # ส่วนสูง (cm)\n",
        "# คำนวณ BMI\n",
        "bmi = calculate_bmi(weight, height)\n",
        "print(f\"ค่า BMI ของคุณคือ: {bmi:.2f}\")\n",
        "\n",
        "# ตีความค่า BMI\n",
        "interpretation = interpret_bmi(bmi)\n",
        "print(f\"การตีความค่า BMI: {interpretation}\")\n",
        "print(\"ชื่อโปรแกรม คือ ถ้ารักธรรมชาติ ควรหา BMI\")\n",
        "print(\"โดยแชมป์ ปฏิภาณ สุดหล่อบรองชู๊วคัมซิมิดาอปป๊าโคนิจิวะอันยองอาเซโยคนดีคนเดิมของทุกคนนะครับอิอิจุ๊บุจุ๊บุ \")\n",
        "print(\"และยินดีต้อนรับและกราบสวัสดีพ่อแม่พี่น้องปู่ยาตายาทวดญาติของคนรอบข้างใกล้ชิดท่านเทพอัลลาะและพระเยซูโพไซดอนซุสพระพิขเนศพนะแม่กาลีองค์เทพทั้ง12องค์ขอให้ปกปักรักษาท่าน \")"
      ],
      "metadata": {
        "colab": {
          "base_uri": "https://localhost:8080/"
        },
        "id": "CIdPINRxXvDw",
        "outputId": "63787abb-aaa8-4e54-8c7d-121f15451cad"
      },
      "execution_count": null,
      "outputs": [
        {
          "output_type": "stream",
          "name": "stdout",
          "text": [
            "น้ำหนักของคุณ คือ 66\n",
            "ส่วนสูงของคุณ(ซม.) คือ 166\n",
            "ค่า BMI ของคุณคือ: 0.00\n",
            "การตีความค่า BMI: น้ำหนักน้อย / ผอม โหคุณครับช่วงนี้คุณเบื่ออาหารป่ะครับ หรือเป็นโรคซืมเสร้าป่าวครับ คุณต้องกินเพิ่มนะครับไม่งั้นเดะได้เป็นกระดูกเดินได้นะครับ ผมเป็นห่วงนะครับ ด้วยรักและความห่วงใยจากด็อกเตอร์ศาสตราจารย์เทพบุตรสุดหล่อแชมป์ ปฏิภาณคนดีคนเดิม\n",
            "ชื่อโปรแกรม คือ ถ้ารักธรรมชาติ ควรหา BMI\n",
            "โดยแชมป์ ปฏิภาณ สุดหล่อบรองชู๊วคัมซิมิดาอปป๊าโคนิจิวะอันยองอาเซโยคนดีคนเดิมของทุกคนนะครับอิอิจุ๊บุจุ๊บุ \n",
            "และยินดีต้อนรับและกราบสวัสดีพ่อแม่พี่น้องปู่ยาตายาทวดญาติของคนรอบข้างใกล้ชิดท่านเทพอัลลาะและพระเยซูโพไซดอนซุสพระพิขเนศพนะแม่กาลีองค์เทพทั้ง12องค์ขอให้ปกปักรักษาท่าน \n"
          ]
        }
      ]
    },
    {
      "cell_type": "code",
      "source": [],
      "metadata": {
        "id": "A2BVNvNxZldv"
      },
      "execution_count": null,
      "outputs": []
    }
  ]
}